{
 "cells": [
  {
   "cell_type": "code",
   "execution_count": 1,
   "metadata": {},
   "outputs": [
    {
     "ename": "ModuleNotFoundError",
     "evalue": "No module named 'seaborn'",
     "output_type": "error",
     "traceback": [
      "\u001b[0;31m---------------------------------------------------------------------------\u001b[0m",
      "\u001b[0;31mModuleNotFoundError\u001b[0m                       Traceback (most recent call last)",
      "Cell \u001b[0;32mIn[1], line 6\u001b[0m\n\u001b[1;32m      4\u001b[0m \u001b[38;5;28;01mimport\u001b[39;00m \u001b[38;5;21;01mstatsmodels\u001b[39;00m\u001b[38;5;21;01m.\u001b[39;00m\u001b[38;5;21;01mformula\u001b[39;00m\u001b[38;5;21;01m.\u001b[39;00m\u001b[38;5;21;01mapi\u001b[39;00m \u001b[38;5;28;01mas\u001b[39;00m \u001b[38;5;21;01msmf\u001b[39;00m\n\u001b[1;32m      5\u001b[0m \u001b[38;5;28;01mimport\u001b[39;00m \u001b[38;5;21;01mmatplotlib\u001b[39;00m\u001b[38;5;21;01m.\u001b[39;00m\u001b[38;5;21;01mpyplot\u001b[39;00m \u001b[38;5;28;01mas\u001b[39;00m \u001b[38;5;21;01mplt\u001b[39;00m\n\u001b[0;32m----> 6\u001b[0m \u001b[38;5;28;01mimport\u001b[39;00m \u001b[38;5;21;01mseaborn\u001b[39;00m \u001b[38;5;28;01mas\u001b[39;00m \u001b[38;5;21;01msns\u001b[39;00m\n\u001b[1;32m      7\u001b[0m \u001b[38;5;28;01mfrom\u001b[39;00m \u001b[38;5;21;01mlinearmodels\u001b[39;00m\u001b[38;5;21;01m.\u001b[39;00m\u001b[38;5;21;01mpanel\u001b[39;00m \u001b[38;5;28;01mimport\u001b[39;00m PanelOLS\n\u001b[1;32m      8\u001b[0m \u001b[38;5;28;01mfrom\u001b[39;00m \u001b[38;5;21;01mlinearmodels\u001b[39;00m\u001b[38;5;21;01m.\u001b[39;00m\u001b[38;5;21;01mpanel\u001b[39;00m \u001b[38;5;28;01mimport\u001b[39;00m compare\n",
      "\u001b[0;31mModuleNotFoundError\u001b[0m: No module named 'seaborn'"
     ]
    }
   ],
   "source": [
    "import pandas as pd\n",
    "import numpy as np\n",
    "import matplotlib.pyplot as plt\n",
    "from linearmodels.panel import PanelOLS\n",
    "import datetime\n",
    "\n",
    "\n",
    "# file_read(file from executed query)\n",
    "cond1_treat_0_1 = pd.read_csv(\"./data/treat_0_1_condition1.csv\")\n",
    "cond1_treat_0_2 = pd.read_csv(\"./data/treat_0_2_condition1.csv\")\n",
    "cond1_treat_1_1 = pd.read_csv(\"./data/treat_1_1_condition1.csv\")\n",
    "cond1_treat_1_2 = pd.read_csv(\"./data/treat_1_2_condition1.csv\")\n",
    "\n",
    "\n",
    "cond2_treat_0_1 = pd.read_csv(\"./data/treat_0_1_condition2.csv\")\n",
    "cond2_treat_0_2 = pd.read_csv(\"./data/treat_0_2_condition2.csv\")\n",
    "cond2_treat_1_1 = pd.read_csv(\"./data/treat_1_1_condition2.csv\")\n",
    "cond2_treat_1_2 = pd.read_csv(\"./data/treat_1_2_condition2.csv\")\n",
    "\n",
    "cond3_treat_0_1 = pd.read_csv(\"./data/treat_0_1_condition3.csv\")\n",
    "cond3_treat_0_2 = pd.read_csv(\"./data/treat_0_2_condition3.csv\")\n",
    "cond3_treat_1_1 = pd.read_csv(\"./data/treat_1_1_condition3.csv\")\n",
    "cond3_treat_1_2 = pd.read_csv(\"./data/treat_1_2_condition3.csv\")\n",
    "\n",
    "# file_read(original dataset)\n",
    "df_topic_day = pd.read_csv(\"./data/topic_day_panel.csv\")\n",
    "\n"
   ]
  },
  {
   "cell_type": "markdown",
   "metadata": {},
   "source": [
    "전처리"
   ]
  },
  {
   "cell_type": "code",
   "execution_count": 2,
   "metadata": {},
   "outputs": [],
   "source": [
    "#original dataset pp\n",
    "df_topic_day = df_topic_day[df_topic_day['tag'] != '.net']\n",
    "df_topic_day = df_topic_day[['date', 'tag', 'q_count', 'treat',\t'rel_week']]\n",
    "df_topic_day.columns = ['cdate', 'sede_tag', 'sede_q_count', 'treat', 'rel_week']\n",
    "\n",
    "df_topic_day['rel_week'] = pd.Categorical(df_topic_day['rel_week'])\n",
    "df_topic_day['cdate'] = pd.to_datetime(df_topic_day['cdate'])\n",
    "\n",
    "df_topic_day  = df_topic_day.sort_values(by = ['sede_tag', 'cdate'], ascending=[True, True])\n",
    "df_topic_day = df_topic_day.set_index(['sede_tag', 'cdate'])"
   ]
  },
  {
   "cell_type": "code",
   "execution_count": null,
   "metadata": {},
   "outputs": [],
   "source": [
    "df_topic_day"
   ]
  },
  {
   "cell_type": "code",
   "execution_count": 4,
   "metadata": {},
   "outputs": [],
   "source": [
    "cond1_sede = pd.concat([cond1_treat_0_1\n",
    "                    , cond1_treat_0_2\n",
    "                    , cond1_treat_1_1\n",
    "                    , cond1_treat_1_2], axis = 0)\n",
    "cond2_sede = pd.concat([  cond2_treat_0_1\n",
    "                        , cond2_treat_0_2\n",
    "                        , cond2_treat_1_1\n",
    "                        , cond2_treat_1_2], axis = 0)\n",
    "\n",
    "cond3_sede = pd.concat([  cond3_treat_0_1\n",
    "                        , cond3_treat_0_2\n",
    "                        , cond3_treat_1_1\n",
    "                        , cond3_treat_1_2], axis = 0)"
   ]
  },
  {
   "cell_type": "code",
   "execution_count": null,
   "metadata": {},
   "outputs": [],
   "source": [
    "cond1_sede.sort_values(by = ['cdate', 'del_yn'])"
   ]
  },
  {
   "cell_type": "code",
   "execution_count": null,
   "metadata": {},
   "outputs": [],
   "source": [
    "cond2_sede.sort_values(by = ['cdate', 'del_yn'])"
   ]
  },
  {
   "cell_type": "code",
   "execution_count": null,
   "metadata": {},
   "outputs": [],
   "source": [
    "cond3_sede.sort_values(by = ['cdate', 'del_yn'])"
   ]
  },
  {
   "cell_type": "code",
   "execution_count": 8,
   "metadata": {},
   "outputs": [],
   "source": [
    "cond1_sede = cond1_sede.melt(id_vars = ['cdate', 'del_yn'], value_vars=cond1_sede.columns[1:])\n",
    "cond2_sede = cond2_sede.melt(id_vars = ['cdate', 'del_yn'], value_vars=cond2_sede.columns[1:])\n",
    "cond3_sede = cond3_sede.melt(id_vars = ['cdate', 'del_yn'], value_vars=cond3_sede.columns[1:])"
   ]
  },
  {
   "cell_type": "code",
   "execution_count": 9,
   "metadata": {},
   "outputs": [],
   "source": [
    "cond1_sede['cdate'] = pd.to_datetime(cond1_sede['cdate'])\n",
    "cond2_sede['cdate'] = pd.to_datetime(cond2_sede['cdate'])\n",
    "cond3_sede['cdate'] = pd.to_datetime(cond3_sede['cdate'])"
   ]
  },
  {
   "cell_type": "code",
   "execution_count": 10,
   "metadata": {},
   "outputs": [],
   "source": [
    "cond1_sede.columns = ['cdate', 'del_yn', 'sede_tag', 'sede_q_count']\n",
    "cond2_sede.columns = ['cdate', 'del_yn', 'sede_tag', 'sede_q_count']\n",
    "cond3_sede.columns = ['cdate', 'del_yn', 'sede_tag', 'sede_q_count']"
   ]
  },
  {
   "cell_type": "code",
   "execution_count": 11,
   "metadata": {},
   "outputs": [],
   "source": [
    "cond1_sede.loc[cond1_sede['sede_tag'] =='net', 'sede_tag']='.net'\n",
    "cond2_sede.loc[cond2_sede['sede_tag'] =='net', 'sede_tag']='.net'\n",
    "cond3_sede.loc[cond3_sede['sede_tag'] =='net', 'sede_tag']='.net'"
   ]
  },
  {
   "cell_type": "code",
   "execution_count": null,
   "metadata": {},
   "outputs": [],
   "source": [
    "cond1_sede"
   ]
  },
  {
   "cell_type": "code",
   "execution_count": 13,
   "metadata": {},
   "outputs": [],
   "source": [
    "cond1_sede_y = cond1_sede.loc[cond1_sede['del_yn'] ==1, ['cdate', 'sede_tag', 'sede_q_count']]\n",
    "cond1_sede_n = cond1_sede.loc[cond1_sede['del_yn'] ==0, ['cdate', 'sede_tag', 'sede_q_count']]\n",
    "\n",
    "cond2_sede_y = cond2_sede.loc[cond2_sede['del_yn'] ==1, ['cdate', 'sede_tag', 'sede_q_count']]\n",
    "cond2_sede_n = cond2_sede.loc[cond2_sede['del_yn'] ==0, ['cdate', 'sede_tag', 'sede_q_count']]\n",
    "\n",
    "\n",
    "cond3_sede_y = cond3_sede.loc[cond3_sede['del_yn'] ==1, ['cdate', 'sede_tag', 'sede_q_count']]\n",
    "cond3_sede_n = cond3_sede.loc[cond3_sede['del_yn'] ==0, ['cdate', 'sede_tag', 'sede_q_count']]"
   ]
  },
  {
   "cell_type": "code",
   "execution_count": 14,
   "metadata": {},
   "outputs": [],
   "source": [
    "cond1_sede_yn = cond1_sede.groupby(['cdate', 'sede_tag']).sum()[['sede_q_count']].reset_index()\n",
    "cond2_sede_yn = cond2_sede.groupby(['cdate', 'sede_tag']).sum()[['sede_q_count']].reset_index()\n",
    "cond3_sede_yn = cond3_sede.groupby(['cdate', 'sede_tag']).sum()[['sede_q_count']].reset_index()"
   ]
  },
  {
   "cell_type": "code",
   "execution_count": null,
   "metadata": {},
   "outputs": [],
   "source": []
  },
  {
   "cell_type": "code",
   "execution_count": null,
   "metadata": {},
   "outputs": [],
   "source": [
    "df_topic_day"
   ]
  },
  {
   "cell_type": "code",
   "execution_count": 16,
   "metadata": {},
   "outputs": [],
   "source": [
    "def pp_treat(df):\n",
    "    # chg data type\n",
    "    df['cdate'] = pd.to_datetime(df['cdate'])\n",
    "\n",
    "    # set treat 0/1\n",
    "    cond1 = df['cdate']>='2021-10-06'\n",
    "    cond2 = df['cdate']<='2022-03-15'\n",
    "    cond3 = df['cdate']>='2022-10-05'\n",
    "    cond4 = df['cdate']<='2023-03-14'\n",
    "\n",
    "    df.loc[(cond1&cond2), 'treat'] = 0\n",
    "    df.loc[(cond3&cond4), 'treat'] = 1   \n",
    "    \n",
    "    # set rel_days\n",
    "    df.loc[(cond1&cond2), 'rel_days'] = df.loc[(cond1&cond2), 'cdate'] - datetime.datetime(2021,12,1)\n",
    "    df.loc[(cond3&cond4), 'rel_days'] = df.loc[(cond3&cond4), 'cdate'] - datetime.datetime(2022,11,30)\n",
    "\n",
    "    # set rel_weeks\n",
    "    df['rel_week'] = np.floor(df['rel_days'].dt.days/7)\n",
    "\n",
    "    #chg data type \n",
    "    df[['treat', 'rel_week']] = df[['treat', 'rel_week']].astype(int)\n",
    "    df['rel_week'] = pd.Categorical(df['rel_week'])\n",
    "    \n",
    "    #exception for .net\n",
    "    df = df[df['sede_tag'] != '.net']\n",
    "\n",
    "    # sort values\n",
    "    df  = df.sort_values(by = ['sede_tag', 'cdate'], ascending=[True, True])\n",
    "\n",
    "    # set index\n",
    "    df = df.set_index(['sede_tag', 'cdate'])\n",
    "\n",
    "    return df\n",
    "\n"
   ]
  },
  {
   "cell_type": "code",
   "execution_count": 17,
   "metadata": {},
   "outputs": [],
   "source": [
    "cond1_sede_yn = pp_treat(cond1_sede_yn)\n",
    "cond2_sede_yn = pp_treat(cond2_sede_yn)\n",
    "cond3_sede_yn = pp_treat(cond3_sede_yn)\n",
    "\n",
    "cond1_sede_y = pp_treat(cond1_sede_y)\n",
    "cond1_sede_n = pp_treat(cond1_sede_n)\n",
    "\n",
    "cond2_sede_y = pp_treat(cond2_sede_y)\n",
    "cond2_sede_n = pp_treat(cond2_sede_n)\n",
    "\n",
    "cond3_sede_y = pp_treat(cond3_sede_y)\n",
    "cond3_sede_n = pp_treat(cond3_sede_n)"
   ]
  },
  {
   "cell_type": "code",
   "execution_count": null,
   "metadata": {},
   "outputs": [],
   "source": [
    "cond3_sede_y"
   ]
  },
  {
   "cell_type": "markdown",
   "metadata": {},
   "source": [
    "### 모델적용"
   ]
  },
  {
   "cell_type": "code",
   "execution_count": 19,
   "metadata": {},
   "outputs": [],
   "source": [
    "periods = np.arange(-7, 15, 1)"
   ]
  },
  {
   "cell_type": "markdown",
   "metadata": {},
   "source": [
    "#### Q1."
   ]
  },
  {
   "cell_type": "markdown",
   "metadata": {},
   "source": [
    "##### Target "
   ]
  },
  {
   "cell_type": "code",
   "execution_count": null,
   "metadata": {},
   "outputs": [],
   "source": [
    "df_topic_day"
   ]
  },
  {
   "cell_type": "code",
   "execution_count": 21,
   "metadata": {},
   "outputs": [],
   "source": [
    "def run_did(df) :\n",
    "    # 고정 효과 모델 (tag를 고정 효과로 포함하고, rel_week도 설명 변수로 포함)\n",
    "    mod_quest_vol_so_dyn = PanelOLS.from_formula('sede_q_count ~ C(rel_week) * treat + EntityEffects',\n",
    "                                                data=df)\n",
    "    result_dyn = mod_quest_vol_so_dyn.fit(cov_type='clustered', cluster_entity=True)\n",
    "\n",
    "    # 동적 효과 계수 추출\n",
    "    coefs = result_dyn.params\n",
    "    std_errors = result_dyn.std_errors\n",
    "    conf_int = result_dyn.conf_int()\n",
    "\n",
    "    coefs_filtered      = coefs.loc[[f'C(rel_week)[T.{i}]:treat' for i in periods]].values\n",
    "    std_errors_filtered = std_errors.loc[[f'C(rel_week)[T.{i}]:treat' for i in periods]].values\n",
    "\n",
    "    # 신뢰구간 계산\n",
    "    ll_95 = coefs_filtered - 1.965 * std_errors_filtered\n",
    "    ul_95 = coefs_filtered + 1.965 * std_errors_filtered\n",
    "\n",
    "    # 데이터프레임 생성 (계수와 신뢰구간)\n",
    "    df_coefs = pd.DataFrame({\n",
    "        'period'    : periods,\n",
    "        'Estimate'  : coefs_filtered,\n",
    "        'll_95'     : ll_95,\n",
    "        'ul_95'     : ul_95\n",
    "    })\n",
    "    return df_coefs\n"
   ]
  },
  {
   "cell_type": "code",
   "execution_count": 22,
   "metadata": {},
   "outputs": [],
   "source": [
    "origin_output = run_did(df_topic_day)\n",
    "\n",
    "cond1_output   = run_did(cond1_sede_yn)\n",
    "cond1_y_output = run_did(cond1_sede_y)\n",
    "cond1_n_output = run_did(cond1_sede_n)\n",
    "\n",
    "cond2_output   = run_did(cond2_sede_yn)\n",
    "cond2_y_output = run_did(cond2_sede_y)\n",
    "cond2_n_output = run_did(cond2_sede_n)\n",
    "\n",
    "cond3_output   = run_did(cond3_sede_yn)\n",
    "cond3_y_output = run_did(cond3_sede_y)\n",
    "cond3_n_output = run_did(cond3_sede_n)"
   ]
  },
  {
   "cell_type": "code",
   "execution_count": null,
   "metadata": {},
   "outputs": [],
   "source": [
    "### create a figure with multiple subplots\n",
    "sharey = True ## 또는 sharey=False\n",
    "sharex = True ## 또는 sharex=False\n",
    "\n",
    "fig, axs = plt.subplots(1, 4, figsize = (20, 5), sharey=sharey, sharex=sharex)\n",
    "\n",
    "\n",
    "axs[0].fill_between(origin_output['period'], origin_output['ll_95'], origin_output['ul_95'], color='gray', alpha=0.5)\n",
    "axs[0].plot(origin_output['period'], origin_output['Estimate'], color='black', linewidth=2)\n",
    "axs[0].axvline(x=0,     color='red',    linestyle='-.', linewidth=1)\n",
    "axs[0].axhline(y=0,     color='black',  linestyle='--')\n",
    "axs[0].axhline(y=-20.9, color='green',  linestyle='--')\n",
    "axs[0].set_xlabel(\"Week Relative to ChatGPT Release\", fontsize = 12)\n",
    "axs[0].set_ylabel(\"Content Volume Effect and 95% CI\", fontsize = 12)\n",
    "axs[0].set_title(\"A. Original trend\", fontsize=18.5)\n",
    "axs[0].tick_params(axis='x', rotation=45)\n",
    "axs[0].grid(False)\n",
    "\n",
    "axs[1].fill_between(cond2_n_output['period'], cond2_n_output['ll_95'], cond2_n_output['ul_95'], color='gray', alpha=0.5)\n",
    "axs[1].plot(cond2_n_output['period'], cond2_n_output['Estimate'], color='black', linewidth=2)\n",
    "axs[1].axvline(x=0,     color='red',    linestyle='-.', linewidth=1)\n",
    "axs[1].axhline(y=0,     color='black',  linestyle='--')\n",
    "# axs[1].axvline(x=3, color='blue', linestyle='-.', linewidth=1)\n",
    "axs[1].axhline(y=-20.9, color='green',  linestyle='--')\n",
    "axs[1].set_xlabel(\"Week Relative to ChatGPT Release\", fontsize = 12)\n",
    "axs[1].set_ylabel(\"Content Volume Effect and 95% CI\", fontsize = 12)\n",
    "axs[1].set_title(\"B. Snapshot (2023-12-03)\", fontsize=18.5)\n",
    "axs[1].tick_params(axis='x', rotation=45)\n",
    "axs[1].grid(False)\n",
    "\n",
    "axs[2].fill_between(cond1_n_output['period'], cond1_n_output['ll_95'], cond1_n_output['ul_95'], color='gray', alpha=0.5)\n",
    "axs[2].plot(cond1_n_output['period'], cond1_n_output['Estimate'], color='black', linewidth=2)\n",
    "axs[2].axvline(x=0, color='red', linestyle='-.', linewidth=1)\n",
    "axs[2].axhline(y=0, color='black', linestyle='--')\n",
    "# axs[2].axvline(x=3, color='blue', linestyle='-.', linewidth=1)\n",
    "axs[2].axhline(y=-20.9, color='green',  linestyle='--')\n",
    "axs[2].set_xlabel(\"Week Relative to ChatGPT Release\", fontsize = 12)\n",
    "axs[2].set_ylabel(\"Content Volume Effect and 95% CI\", fontsize = 12)\n",
    "axs[2].set_title(\"C. Snapshot (2024-10-01)\", fontsize=18.5)\n",
    "axs[2].tick_params(axis='x', rotation=45)\n",
    "axs[2].grid(False)\n",
    "\n",
    "\n",
    "axs[3].fill_between(cond3_n_output['period'], cond3_n_output['ll_95'], cond3_n_output['ul_95'], color='gray', alpha=0.5)\n",
    "axs[3].plot(cond3_n_output['period'], cond3_n_output['Estimate'], color='black', linewidth=2)\n",
    "axs[3].axvline(x=0, color='red', linestyle='-.', linewidth=1)\n",
    "axs[3].axhline(y=0, color='black', linestyle='--')\n",
    "# axs[3].axvline(x=3, color='blue', linestyle='-.', linewidth=1)\n",
    "axs[3].axhline(y=-20.9, color='green',  linestyle='--')\n",
    "axs[3].set_xlabel(\"Week Relative to ChatGPT Release\", fontsize = 12)\n",
    "axs[3].set_ylabel(\"Content Volume Effect and 95% CI\", fontsize = 12)\n",
    "axs[3].set_title(\"D.Surviving > 1 year\", fontsize=18.5)\n",
    "axs[3].tick_params(axis='x', rotation=45)\n",
    "axs[3].grid(False)\n",
    "\n",
    "fig.tight_layout()\n",
    "\n",
    "plt.show();"
   ]
  },
  {
   "cell_type": "code",
   "execution_count": null,
   "metadata": {},
   "outputs": [],
   "source": [
    "plt.savefig(\"Figure2.png\", dpi=300, bbox_inches='tight')  # DPI 설정 및 여백 최소화"
   ]
  }
 ],
 "metadata": {
  "kernelspec": {
   "display_name": "Python 3",
   "language": "python",
   "name": "python3"
  },
  "language_info": {
   "codemirror_mode": {
    "name": "ipython",
    "version": 3
   },
   "file_extension": ".py",
   "mimetype": "text/x-python",
   "name": "python",
   "nbconvert_exporter": "python",
   "pygments_lexer": "ipython3",
   "version": "3.9.6"
  }
 },
 "nbformat": 4,
 "nbformat_minor": 4
}
